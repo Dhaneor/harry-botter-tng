{
 "cells": [
  {
   "cell_type": "code",
   "execution_count": 7,
   "metadata": {},
   "outputs": [],
   "source": [
    "import matplotlib.pyplot as plt\n",
    "import numpy as np\n",
    "import os\n",
    "import sys\n",
    "from dotenv import load_dotenv\n",
    "from numba.experimental import jitclass\n",
    "\n",
    "# Get the current working directory\n",
    "current_dir = os.getcwd()\n",
    "\n",
    "# Go up one level to the project root\n",
    "project_root = os.path.dirname(current_dir)\n",
    "\n",
    "# Load the .env file from the project root\n",
    "load_dotenv(os.path.join(project_root, '.env'))\n",
    "\n",
    "# Add the src directory to sys.path\n",
    "\n",
    "src_dir = os.path.join(project_root, 'src')\n",
    "if src_dir not in sys.path:\n",
    "    sys.path.append(src_dir)\n",
    "\n",
    "# Now you can import from src\n",
    "from analysis.models.market_data import MarketData\n",
    "from analysis import SignalGenerator, signal_generator_factory as sgf\n",
    "from analysis.strategy.definitions import linreg, tema_cross"
   ]
  },
  {
   "cell_type": "code",
   "execution_count": 8,
   "metadata": {},
   "outputs": [
    {
     "ename": "AssertionError",
     "evalue": "",
     "output_type": "error",
     "traceback": [
      "\u001b[0;31m---------------------------------------------------------------------------\u001b[0m",
      "\u001b[0;31mAssertionError\u001b[0m                            Traceback (most recent call last)",
      "Cell \u001b[0;32mIn[8], line 5\u001b[0m\n\u001b[1;32m      2\u001b[0m assets \u001b[38;5;241m=\u001b[39m \u001b[38;5;241m1\u001b[39m\n\u001b[1;32m      4\u001b[0m sg \u001b[38;5;241m=\u001b[39m sgf(tema_cross)\n\u001b[0;32m----> 5\u001b[0m sg\u001b[38;5;241m.\u001b[39mmarket_data \u001b[38;5;241m=\u001b[39m \u001b[43mMarketData\u001b[49m\u001b[38;5;241;43m.\u001b[39;49m\u001b[43mfrom_random\u001b[49m\u001b[43m(\u001b[49m\u001b[38;5;241;43m300\u001b[39;49m\u001b[43m,\u001b[49m\u001b[43m \u001b[49m\u001b[38;5;241;43m1\u001b[39;49m\u001b[43m)\u001b[49m\n\u001b[1;32m      6\u001b[0m signals \u001b[38;5;241m=\u001b[39m sg\u001b[38;5;241m.\u001b[39mexecute()\n\u001b[1;32m      7\u001b[0m signals\n",
      "File \u001b[0;32m~/Documents/python stuff/hb_tng/harry-botter-tng/src/analysis/models/market_data.py:491\u001b[0m, in \u001b[0;36mMarketData.from_random\u001b[0;34m(cls, length, no_of_symbols, volatility)\u001b[0m\n\u001b[1;32m    488\u001b[0m     timestamps[:, i] \u001b[38;5;241m=\u001b[39m timestamps_ms\n\u001b[1;32m    490\u001b[0m \u001b[38;5;66;03m# Create MarketDataStore\u001b[39;00m\n\u001b[0;32m--> 491\u001b[0m mds \u001b[38;5;241m=\u001b[39m \u001b[43mMarketDataStore\u001b[49m\u001b[43m(\u001b[49m\n\u001b[1;32m    492\u001b[0m \u001b[43m    \u001b[49m\u001b[43mopen_\u001b[49m\u001b[38;5;241;43m=\u001b[39;49m\u001b[43mopen_prices\u001b[49m\u001b[43m,\u001b[49m\n\u001b[1;32m    493\u001b[0m \u001b[43m    \u001b[49m\u001b[43mhigh\u001b[49m\u001b[38;5;241;43m=\u001b[39;49m\u001b[43mhigh_prices\u001b[49m\u001b[43m,\u001b[49m\n\u001b[1;32m    494\u001b[0m \u001b[43m    \u001b[49m\u001b[43mlow\u001b[49m\u001b[38;5;241;43m=\u001b[39;49m\u001b[43mlow_prices\u001b[49m\u001b[43m,\u001b[49m\n\u001b[1;32m    495\u001b[0m \u001b[43m    \u001b[49m\u001b[43mclose\u001b[49m\u001b[38;5;241;43m=\u001b[39;49m\u001b[43mclose_prices\u001b[49m\u001b[43m,\u001b[49m\n\u001b[1;32m    496\u001b[0m \u001b[43m    \u001b[49m\u001b[43mvolume\u001b[49m\u001b[38;5;241;43m=\u001b[39;49m\u001b[43mvolumes\u001b[49m\u001b[43m,\u001b[49m\n\u001b[1;32m    497\u001b[0m \u001b[43m    \u001b[49m\u001b[43mtimestamp\u001b[49m\u001b[38;5;241;43m=\u001b[39;49m\u001b[43mtimestamps\u001b[49m\u001b[43m,\u001b[49m\n\u001b[1;32m    498\u001b[0m \u001b[43m\u001b[49m\u001b[43m)\u001b[49m\n\u001b[1;32m    500\u001b[0m \u001b[38;5;28;01mreturn\u001b[39;00m \u001b[38;5;28mcls\u001b[39m(mds, symbols)\n",
      "File \u001b[0;32m~/miniconda3/envs/hb311/lib/python3.11/site-packages/numba/experimental/jitclass/base.py:124\u001b[0m, in \u001b[0;36mJitClassType.__call__\u001b[0;34m(cls, *args, **kwargs)\u001b[0m\n\u001b[1;32m    122\u001b[0m bind \u001b[38;5;241m=\u001b[39m \u001b[38;5;28mcls\u001b[39m\u001b[38;5;241m.\u001b[39m_ctor_sig\u001b[38;5;241m.\u001b[39mbind(\u001b[38;5;28;01mNone\u001b[39;00m, \u001b[38;5;241m*\u001b[39margs, \u001b[38;5;241m*\u001b[39m\u001b[38;5;241m*\u001b[39mkwargs)\n\u001b[1;32m    123\u001b[0m bind\u001b[38;5;241m.\u001b[39mapply_defaults()\n\u001b[0;32m--> 124\u001b[0m \u001b[38;5;28;01mreturn\u001b[39;00m \u001b[38;5;28;43mcls\u001b[39;49m\u001b[38;5;241;43m.\u001b[39;49m\u001b[43m_ctor\u001b[49m\u001b[43m(\u001b[49m\u001b[38;5;241;43m*\u001b[39;49m\u001b[43mbind\u001b[49m\u001b[38;5;241;43m.\u001b[39;49m\u001b[43margs\u001b[49m\u001b[43m[\u001b[49m\u001b[38;5;241;43m1\u001b[39;49m\u001b[43m:\u001b[49m\u001b[43m]\u001b[49m\u001b[43m,\u001b[49m\u001b[43m \u001b[49m\u001b[38;5;241;43m*\u001b[39;49m\u001b[38;5;241;43m*\u001b[39;49m\u001b[43mbind\u001b[49m\u001b[38;5;241;43m.\u001b[39;49m\u001b[43mkwargs\u001b[49m\u001b[43m)\u001b[49m\n",
      "File \u001b[0;32m~/miniconda3/envs/hb311/lib/python3.11/site-packages/numba/np/arraymath.py:1559\u001b[0m, in \u001b[0;36m_select_two\u001b[0;34m()\u001b[0m\n\u001b[1;32m   1552\u001b[0m \u001b[38;5;250m\u001b[39m\u001b[38;5;124;03m\"\"\"\u001b[39;00m\n\u001b[1;32m   1553\u001b[0m \u001b[38;5;124;03mSelect the k'th and k+1'th smallest elements in array[low:high + 1].\u001b[39;00m\n\u001b[1;32m   1554\u001b[0m \n\u001b[1;32m   1555\u001b[0m \u001b[38;5;124;03mThis is significantly faster than doing two independent selections\u001b[39;00m\n\u001b[1;32m   1556\u001b[0m \u001b[38;5;124;03mfor k and k+1.\u001b[39;00m\n\u001b[1;32m   1557\u001b[0m \u001b[38;5;124;03m\"\"\"\u001b[39;00m\n\u001b[1;32m   1558\u001b[0m \u001b[38;5;28;01mwhile\u001b[39;00m \u001b[38;5;28;01mTrue\u001b[39;00m:\n\u001b[0;32m-> 1559\u001b[0m     \u001b[38;5;28;01massert\u001b[39;00m high \u001b[38;5;241m>\u001b[39m low  \u001b[38;5;66;03m# by construction\u001b[39;00m\n\u001b[1;32m   1560\u001b[0m     i \u001b[38;5;241m=\u001b[39m _partition(arry, low, high)\n\u001b[1;32m   1561\u001b[0m     \u001b[38;5;28;01mif\u001b[39;00m i \u001b[38;5;241m<\u001b[39m k:\n",
      "\u001b[0;31mAssertionError\u001b[0m: "
     ]
    }
   ],
   "source": [
    "periods = 300\n",
    "assets = 1\n",
    "\n",
    "sg = sgf(tema_cross)\n",
    "sg.market_data = MarketData.from_random(300, 1)\n",
    "signals = sg.execute()\n",
    "signals"
   ]
  }
 ],
 "metadata": {
  "kernelspec": {
   "display_name": "hb311",
   "language": "python",
   "name": "python3"
  },
  "language_info": {
   "codemirror_mode": {
    "name": "ipython",
    "version": 3
   },
   "file_extension": ".py",
   "mimetype": "text/x-python",
   "name": "python",
   "nbconvert_exporter": "python",
   "pygments_lexer": "ipython3",
   "version": "3.11.11"
  }
 },
 "nbformat": 4,
 "nbformat_minor": 2
}
