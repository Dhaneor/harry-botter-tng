{
 "cells": [
  {
   "cell_type": "code",
   "execution_count": 6,
   "metadata": {},
   "outputs": [],
   "source": [
    "import matplotlib.pyplot as plt\n",
    "import numpy as np\n",
    "import os\n",
    "import sys\n",
    "from dotenv import load_dotenv\n",
    "\n",
    "# Get the current working directory\n",
    "current_dir = os.getcwd()\n",
    "\n",
    "# Go up one level to the project root\n",
    "project_root = os.path.dirname(current_dir)\n",
    "\n",
    "# Load the .env file from the project root\n",
    "load_dotenv(os.path.join(project_root, '.env'))\n",
    "\n",
    "# Add the src directory to sys.path\n",
    "\n",
    "src_dir = os.path.join(project_root, 'src')\n",
    "if src_dir not in sys.path:\n",
    "    sys.path.append(src_dir)\n",
    "\n",
    "# Now you can import from src\n",
    "from analysis.models.market_data import MarketData\n",
    "from analysis import SignalGenerator, signal_generator_factory as sgf\n",
    "from analysis.strategy.definitions import linreg, tema_cross"
   ]
  },
  {
   "cell_type": "code",
   "execution_count": 7,
   "metadata": {},
   "outputs": [
    {
     "ename": "TypingError",
     "evalue": "Failed in nopython mode pipeline (step: nopython frontend)\nFailed in nopython mode pipeline (step: nopython frontend)\nCannot resolve setattr: (instance.jitclass.MarketDataStore#168138ad0<timestamp:array(int64, 2d, A),open_:array(float32, 2d, A),high:array(float32, 2d, A),low:array(float32, 2d, A),close:array(float32, 2d, A),volume:array(float32, 2d, A),log_returns:array(float32, 2d, A),atr:array(float32, 2d, A),annual_vol:array(float32, 2d, A)>).stats = instance.jitclass.Statistics#16811f690<_epsilon:float64>\n\nFile \"../src/analysis/models/market_data.py\", line 54:\n    def __init__(\n        <source elided>\n\n        self.stats = Statistics()\n        ^\n\nDuring: typing of set attribute 'stats' at /Users/dhaneor/Documents/python stuff/hb_tng/harry-botter-tng/src/analysis/models/market_data.py (54)\n\nFile \"../src/analysis/models/market_data.py\", line 54:\n    def __init__(\n        <source elided>\n\n        self.stats = Statistics()\n        ^\n\nDuring: resolving callee type: jitclass.MarketDataStore#168138ad0<timestamp:array(int64, 2d, A),open_:array(float32, 2d, A),high:array(float32, 2d, A),low:array(float32, 2d, A),close:array(float32, 2d, A),volume:array(float32, 2d, A),log_returns:array(float32, 2d, A),atr:array(float32, 2d, A),annual_vol:array(float32, 2d, A)>\nDuring: typing of call at <string> (3)\n\nDuring: resolving callee type: jitclass.MarketDataStore#168138ad0<timestamp:array(int64, 2d, A),open_:array(float32, 2d, A),high:array(float32, 2d, A),low:array(float32, 2d, A),close:array(float32, 2d, A),volume:array(float32, 2d, A),log_returns:array(float32, 2d, A),atr:array(float32, 2d, A),annual_vol:array(float32, 2d, A)>\nDuring: typing of call at <string> (3)\n\n\nFile \"<string>\", line 3:\n<source missing, REPL/exec in use?>\n",
     "output_type": "error",
     "traceback": [
      "\u001b[0;31m---------------------------------------------------------------------------\u001b[0m",
      "\u001b[0;31mTypingError\u001b[0m                               Traceback (most recent call last)",
      "Cell \u001b[0;32mIn[7], line 5\u001b[0m\n\u001b[1;32m      2\u001b[0m assets \u001b[38;5;241m=\u001b[39m \u001b[38;5;241m1\u001b[39m\n\u001b[1;32m      4\u001b[0m sg \u001b[38;5;241m=\u001b[39m sgf(tema_cross)\n\u001b[0;32m----> 5\u001b[0m sg\u001b[38;5;241m.\u001b[39mmarket_data \u001b[38;5;241m=\u001b[39m \u001b[43mMarketData\u001b[49m\u001b[38;5;241;43m.\u001b[39;49m\u001b[43mfrom_random\u001b[49m\u001b[43m(\u001b[49m\u001b[38;5;241;43m1000\u001b[39;49m\u001b[43m,\u001b[49m\u001b[43m \u001b[49m\u001b[38;5;241;43m1\u001b[39;49m\u001b[43m)\u001b[49m\n\u001b[1;32m      6\u001b[0m signals \u001b[38;5;241m=\u001b[39m sg\u001b[38;5;241m.\u001b[39mexecute()\n\u001b[1;32m      7\u001b[0m signals\n",
      "File \u001b[0;32m~/Documents/python stuff/hb_tng/harry-botter-tng/src/analysis/models/market_data.py:464\u001b[0m, in \u001b[0;36mMarketData.from_random\u001b[0;34m(cls, length, no_of_symbols, volatility)\u001b[0m\n\u001b[1;32m    461\u001b[0m     timestamps[:, i] \u001b[38;5;241m=\u001b[39m timestamps_ms\n\u001b[1;32m    463\u001b[0m \u001b[38;5;66;03m# Create MarketDataStore\u001b[39;00m\n\u001b[0;32m--> 464\u001b[0m mds \u001b[38;5;241m=\u001b[39m \u001b[43mMarketDataStore\u001b[49m\u001b[43m(\u001b[49m\n\u001b[1;32m    465\u001b[0m \u001b[43m    \u001b[49m\u001b[43mopen_\u001b[49m\u001b[38;5;241;43m=\u001b[39;49m\u001b[43mopen_prices\u001b[49m\u001b[43m,\u001b[49m\n\u001b[1;32m    466\u001b[0m \u001b[43m    \u001b[49m\u001b[43mhigh\u001b[49m\u001b[38;5;241;43m=\u001b[39;49m\u001b[43mhigh_prices\u001b[49m\u001b[43m,\u001b[49m\n\u001b[1;32m    467\u001b[0m \u001b[43m    \u001b[49m\u001b[43mlow\u001b[49m\u001b[38;5;241;43m=\u001b[39;49m\u001b[43mlow_prices\u001b[49m\u001b[43m,\u001b[49m\n\u001b[1;32m    468\u001b[0m \u001b[43m    \u001b[49m\u001b[43mclose\u001b[49m\u001b[38;5;241;43m=\u001b[39;49m\u001b[43mclose_prices\u001b[49m\u001b[43m,\u001b[49m\n\u001b[1;32m    469\u001b[0m \u001b[43m    \u001b[49m\u001b[43mvolume\u001b[49m\u001b[38;5;241;43m=\u001b[39;49m\u001b[43mvolumes\u001b[49m\u001b[43m,\u001b[49m\n\u001b[1;32m    470\u001b[0m \u001b[43m    \u001b[49m\u001b[43mtimestamp\u001b[49m\u001b[38;5;241;43m=\u001b[39;49m\u001b[43mtimestamps\u001b[49m\u001b[43m,\u001b[49m\n\u001b[1;32m    471\u001b[0m \u001b[43m\u001b[49m\u001b[43m)\u001b[49m\n\u001b[1;32m    473\u001b[0m \u001b[38;5;28;01mreturn\u001b[39;00m \u001b[38;5;28mcls\u001b[39m(mds, symbols)\n",
      "File \u001b[0;32m~/miniconda3/envs/hb311/lib/python3.11/site-packages/numba/experimental/jitclass/base.py:124\u001b[0m, in \u001b[0;36mJitClassType.__call__\u001b[0;34m(cls, *args, **kwargs)\u001b[0m\n\u001b[1;32m    122\u001b[0m bind \u001b[38;5;241m=\u001b[39m \u001b[38;5;28mcls\u001b[39m\u001b[38;5;241m.\u001b[39m_ctor_sig\u001b[38;5;241m.\u001b[39mbind(\u001b[38;5;28;01mNone\u001b[39;00m, \u001b[38;5;241m*\u001b[39margs, \u001b[38;5;241m*\u001b[39m\u001b[38;5;241m*\u001b[39mkwargs)\n\u001b[1;32m    123\u001b[0m bind\u001b[38;5;241m.\u001b[39mapply_defaults()\n\u001b[0;32m--> 124\u001b[0m \u001b[38;5;28;01mreturn\u001b[39;00m \u001b[38;5;28;43mcls\u001b[39;49m\u001b[38;5;241;43m.\u001b[39;49m\u001b[43m_ctor\u001b[49m\u001b[43m(\u001b[49m\u001b[38;5;241;43m*\u001b[39;49m\u001b[43mbind\u001b[49m\u001b[38;5;241;43m.\u001b[39;49m\u001b[43margs\u001b[49m\u001b[43m[\u001b[49m\u001b[38;5;241;43m1\u001b[39;49m\u001b[43m:\u001b[49m\u001b[43m]\u001b[49m\u001b[43m,\u001b[49m\u001b[43m \u001b[49m\u001b[38;5;241;43m*\u001b[39;49m\u001b[38;5;241;43m*\u001b[39;49m\u001b[43mbind\u001b[49m\u001b[38;5;241;43m.\u001b[39;49m\u001b[43mkwargs\u001b[49m\u001b[43m)\u001b[49m\n",
      "File \u001b[0;32m~/miniconda3/envs/hb311/lib/python3.11/site-packages/numba/core/dispatcher.py:423\u001b[0m, in \u001b[0;36m_DispatcherBase._compile_for_args\u001b[0;34m(self, *args, **kws)\u001b[0m\n\u001b[1;32m    419\u001b[0m         msg \u001b[38;5;241m=\u001b[39m (\u001b[38;5;124mf\u001b[39m\u001b[38;5;124m\"\u001b[39m\u001b[38;5;132;01m{\u001b[39;00m\u001b[38;5;28mstr\u001b[39m(e)\u001b[38;5;241m.\u001b[39mrstrip()\u001b[38;5;132;01m}\u001b[39;00m\u001b[38;5;124m \u001b[39m\u001b[38;5;130;01m\\n\u001b[39;00m\u001b[38;5;130;01m\\n\u001b[39;00m\u001b[38;5;124mThis error may have been caused \u001b[39m\u001b[38;5;124m\"\u001b[39m\n\u001b[1;32m    420\u001b[0m                \u001b[38;5;124mf\u001b[39m\u001b[38;5;124m\"\u001b[39m\u001b[38;5;124mby the following argument(s):\u001b[39m\u001b[38;5;130;01m\\n\u001b[39;00m\u001b[38;5;132;01m{\u001b[39;00margs_str\u001b[38;5;132;01m}\u001b[39;00m\u001b[38;5;130;01m\\n\u001b[39;00m\u001b[38;5;124m\"\u001b[39m)\n\u001b[1;32m    421\u001b[0m         e\u001b[38;5;241m.\u001b[39mpatch_message(msg)\n\u001b[0;32m--> 423\u001b[0m     \u001b[43merror_rewrite\u001b[49m\u001b[43m(\u001b[49m\u001b[43me\u001b[49m\u001b[43m,\u001b[49m\u001b[43m \u001b[49m\u001b[38;5;124;43m'\u001b[39;49m\u001b[38;5;124;43mtyping\u001b[39;49m\u001b[38;5;124;43m'\u001b[39;49m\u001b[43m)\u001b[49m\n\u001b[1;32m    424\u001b[0m \u001b[38;5;28;01mexcept\u001b[39;00m errors\u001b[38;5;241m.\u001b[39mUnsupportedError \u001b[38;5;28;01mas\u001b[39;00m e:\n\u001b[1;32m    425\u001b[0m     \u001b[38;5;66;03m# Something unsupported is present in the user code, add help info\u001b[39;00m\n\u001b[1;32m    426\u001b[0m     error_rewrite(e, \u001b[38;5;124m'\u001b[39m\u001b[38;5;124munsupported_error\u001b[39m\u001b[38;5;124m'\u001b[39m)\n",
      "File \u001b[0;32m~/miniconda3/envs/hb311/lib/python3.11/site-packages/numba/core/dispatcher.py:364\u001b[0m, in \u001b[0;36m_DispatcherBase._compile_for_args.<locals>.error_rewrite\u001b[0;34m(e, issue_type)\u001b[0m\n\u001b[1;32m    362\u001b[0m     \u001b[38;5;28;01mraise\u001b[39;00m e\n\u001b[1;32m    363\u001b[0m \u001b[38;5;28;01melse\u001b[39;00m:\n\u001b[0;32m--> 364\u001b[0m     \u001b[38;5;28;01mraise\u001b[39;00m e\u001b[38;5;241m.\u001b[39mwith_traceback(\u001b[38;5;28;01mNone\u001b[39;00m)\n",
      "\u001b[0;31mTypingError\u001b[0m: Failed in nopython mode pipeline (step: nopython frontend)\nFailed in nopython mode pipeline (step: nopython frontend)\nCannot resolve setattr: (instance.jitclass.MarketDataStore#168138ad0<timestamp:array(int64, 2d, A),open_:array(float32, 2d, A),high:array(float32, 2d, A),low:array(float32, 2d, A),close:array(float32, 2d, A),volume:array(float32, 2d, A),log_returns:array(float32, 2d, A),atr:array(float32, 2d, A),annual_vol:array(float32, 2d, A)>).stats = instance.jitclass.Statistics#16811f690<_epsilon:float64>\n\nFile \"../src/analysis/models/market_data.py\", line 54:\n    def __init__(\n        <source elided>\n\n        self.stats = Statistics()\n        ^\n\nDuring: typing of set attribute 'stats' at /Users/dhaneor/Documents/python stuff/hb_tng/harry-botter-tng/src/analysis/models/market_data.py (54)\n\nFile \"../src/analysis/models/market_data.py\", line 54:\n    def __init__(\n        <source elided>\n\n        self.stats = Statistics()\n        ^\n\nDuring: resolving callee type: jitclass.MarketDataStore#168138ad0<timestamp:array(int64, 2d, A),open_:array(float32, 2d, A),high:array(float32, 2d, A),low:array(float32, 2d, A),close:array(float32, 2d, A),volume:array(float32, 2d, A),log_returns:array(float32, 2d, A),atr:array(float32, 2d, A),annual_vol:array(float32, 2d, A)>\nDuring: typing of call at <string> (3)\n\nDuring: resolving callee type: jitclass.MarketDataStore#168138ad0<timestamp:array(int64, 2d, A),open_:array(float32, 2d, A),high:array(float32, 2d, A),low:array(float32, 2d, A),close:array(float32, 2d, A),volume:array(float32, 2d, A),log_returns:array(float32, 2d, A),atr:array(float32, 2d, A),annual_vol:array(float32, 2d, A)>\nDuring: typing of call at <string> (3)\n\n\nFile \"<string>\", line 3:\n<source missing, REPL/exec in use?>\n"
     ]
    }
   ],
   "source": [
    "periods = 300\n",
    "assets = 1\n",
    "\n",
    "sg = sgf(tema_cross)\n",
    "sg.market_data = MarketData.from_random(1000, 1)\n",
    "signals = sg.execute()\n",
    "signals"
   ]
  }
 ],
 "metadata": {
  "kernelspec": {
   "display_name": "hb311",
   "language": "python",
   "name": "python3"
  },
  "language_info": {
   "codemirror_mode": {
    "name": "ipython",
    "version": 3
   },
   "file_extension": ".py",
   "mimetype": "text/x-python",
   "name": "python",
   "nbconvert_exporter": "python",
   "pygments_lexer": "ipython3",
   "version": "3.11.11"
  }
 },
 "nbformat": 4,
 "nbformat_minor": 2
}
